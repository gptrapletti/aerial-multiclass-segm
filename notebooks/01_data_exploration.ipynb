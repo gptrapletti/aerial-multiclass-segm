{
 "cells": [
  {
   "cell_type": "code",
   "execution_count": 1,
   "metadata": {},
   "outputs": [],
   "source": [
    "import os\n",
    "import cv2\n",
    "from tqdm import tqdm\n",
    "import random\n",
    "import numpy as np\n",
    "import json\n",
    "import matplotlib.pyplot as plt"
   ]
  },
  {
   "cell_type": "code",
   "execution_count": 2,
   "metadata": {},
   "outputs": [],
   "source": [
    "os.chdir('/home/gptrapletti/ds/satellite-multiclass-segm')"
   ]
  },
  {
   "cell_type": "code",
   "execution_count": 3,
   "metadata": {},
   "outputs": [
    {
     "data": {
      "text/plain": [
       "(400, 400)"
      ]
     },
     "execution_count": 3,
     "metadata": {},
     "output_type": "execute_result"
    }
   ],
   "source": [
    "image_filepaths = sorted([os.path.join('data/images', filename) for filename in os.listdir(os.path.join('data/images'))])\n",
    "mask_filepaths = sorted([os.path.join('data/masks', filename) for filename in os.listdir(os.path.join('data/masks'))])\n",
    "\n",
    "len(image_filepaths), len(mask_filepaths)"
   ]
  },
  {
   "cell_type": "code",
   "execution_count": 17,
   "metadata": {},
   "outputs": [
    {
     "name": "stderr",
     "output_type": "stream",
     "text": [
      "100%|██████████| 400/400 [04:13<00:00,  1.58it/s]\n"
     ]
    },
    {
     "data": {
      "text/plain": [
       "{((4000, 6000, 3), (4000, 6000, 3))}"
      ]
     },
     "execution_count": 17,
     "metadata": {},
     "output_type": "execute_result"
    }
   ],
   "source": [
    "# Check image sizes\n",
    "sizes = []\n",
    "for i in tqdm(range(len(image_filepaths))):\n",
    "    image = cv2.imread(image_filepaths[i])\n",
    "    image = cv2.cvtColor(image, cv2.COLOR_BGR2RGB)\n",
    "    mask = cv2.imread(mask_filepaths[i])\n",
    "    mask = cv2.cvtColor(mask, cv2.COLOR_BGR2RGB)\n",
    "    size = (image.shape, mask.shape)\n",
    "    sizes.append(size)\n",
    "    \n",
    "set(sizes)"
   ]
  },
  {
   "attachments": {},
   "cell_type": "markdown",
   "metadata": {},
   "source": [
    "All the images have the same size."
   ]
  },
  {
   "cell_type": "code",
   "execution_count": 4,
   "metadata": {},
   "outputs": [],
   "source": [
    "category_colors = {\n",
    "    \"unlabeled\": (0, 0, 0),\n",
    "    \"paved-area\": (128, 64, 128),\n",
    "    \"dirt\": (130, 76, 0),\n",
    "    \"grass\": (0, 102, 0),\n",
    "    \"gravel\": (112, 103, 87),\n",
    "    \"water\": (28, 42, 168),\n",
    "    \"rocks\": (48, 41, 30),\n",
    "    \"pool\": (0, 50, 89),\n",
    "    \"vegetation\": (107, 142, 35),\n",
    "    \"roof\": (70, 70, 70),\n",
    "    \"wall\": (102, 102, 156),\n",
    "    \"window\": (254, 228, 12),\n",
    "    \"door\": (254, 148, 12),\n",
    "    \"fence\": (190, 153, 153),\n",
    "    \"fence-pole\": (153, 153, 153),\n",
    "    \"person\": (255, 22, 96),\n",
    "    \"dog\": (102, 51, 0),\n",
    "    \"car\": (9, 143, 150),\n",
    "    \"bicycle\": (119, 11, 32),\n",
    "    \"tree\": (51, 51, 0),\n",
    "    \"bald-tree\": (190, 250, 190),\n",
    "    \"ar-marker\": (112, 150, 146),\n",
    "    \"obstacle\": (2, 135, 115),\n",
    "    \"conflicting\": (255, 0, 0)\n",
    "}"
   ]
  },
  {
   "attachments": {},
   "cell_type": "markdown",
   "metadata": {},
   "source": [
    "For each class, look for 3 random images showing that class, turn everything to black and then plot."
   ]
  },
  {
   "cell_type": "code",
   "execution_count": null,
   "metadata": {},
   "outputs": [],
   "source": [
    "random_idxs = list(range(len(mask_filepaths)))\n",
    "\n",
    "category_examples = {}\n",
    "for category in tqdm(category_colors):\n",
    "    random.shuffle(random_idxs)\n",
    "    example_idxs = []\n",
    "    n = 0\n",
    "    for i in random_idxs:\n",
    "        n += 1\n",
    "        mask = cv2.imread(mask_filepaths[i])\n",
    "        mask = cv2.cvtColor(mask, cv2.COLOR_BGR2RGB)\n",
    "        has_color = np.any(np.all(mask == category_colors[category], axis=2)) # if mask == [128, 64, 128] across color channels\n",
    "        # If it has at least a pixel with the object class color\n",
    "        if has_color:\n",
    "            example_idxs.append(i)\n",
    "        if len(example_idxs) == 3: # examples found\n",
    "            category_examples[category] = example_idxs           \n",
    "            break\n",
    "        elif i == random_idxs[-1]: # no examples found\n",
    "            break"
   ]
  },
  {
   "cell_type": "code",
   "execution_count": 9,
   "metadata": {},
   "outputs": [],
   "source": [
    "# # Saver dict\n",
    "# with open('data/category_examples.json', 'w') as file:\n",
    "#     json.dump(category_examples, file)\n",
    "\n",
    "# Load dict\n",
    "with open('data/category_examples.json', 'r') as file:\n",
    "    category_example_idxs = json.load(file)"
   ]
  },
  {
   "cell_type": "code",
   "execution_count": 15,
   "metadata": {},
   "outputs": [
    {
     "name": "stdout",
     "output_type": "stream",
     "text": [
      "Categories absent in the images are: ['conflicting']\n"
     ]
    }
   ],
   "source": [
    "absent_categories = set(category_colors) - set(category_example_idxs)\n",
    "print(f'Categories absent in the images are: {list(absent_categories)}')"
   ]
  },
  {
   "cell_type": "code",
   "execution_count": 83,
   "metadata": {},
   "outputs": [
    {
     "name": "stderr",
     "output_type": "stream",
     "text": [
      "100%|██████████| 23/23 [00:48<00:00,  2.13s/it]\n"
     ]
    }
   ],
   "source": [
    "# For each category, find 3 images with objects of that category, turn everything to background and save plots.\n",
    "categories = sorted(list(category_example_idxs))\n",
    "\n",
    "for category in tqdm(categories):\n",
    "    fig, axs = plt.subplots(1, 3, figsize=(20, 6))\n",
    "    for i, idx in enumerate(category_example_idxs[category]):\n",
    "        # Load image\n",
    "        image = cv2.imread(image_filepaths[idx])\n",
    "        image = cv2.cvtColor(image, cv2.COLOR_BGR2RGB)\n",
    "        image = cv2.resize(image, (400, 300))\n",
    "        # Load mask\n",
    "        mask = cv2.imread(mask_filepaths[idx])\n",
    "        mask = cv2.cvtColor(mask, cv2.COLOR_BGR2RGB)\n",
    "        mask = cv2.resize(mask, (400, 300), interpolation=cv2.INTER_NEAREST)\n",
    "        # Keep only category of interest in the mask\n",
    "        filter = np.all(mask == category_colors[category], axis=2)\n",
    "        filter = np.stack([filter]*3, axis=-1)\n",
    "        # Filter image\n",
    "        image_filtered = image * filter\n",
    "        # Plot        \n",
    "        axs[i].imshow(image_filtered)\n",
    "        axs[i].axis('off')\n",
    "        axs[i].set_title(category)\n",
    "    \n",
    "    fig.tight_layout()\n",
    "    fig.savefig(f'plots/{category}.png')\n",
    "    plt.close(fig)   "
   ]
  },
  {
   "attachments": {},
   "cell_type": "markdown",
   "metadata": {},
   "source": [
    "Categories grouping:\n",
    "- ar-marker: background\n",
    "- bald-tree: vegetation\n",
    "- bicycle: vehicles\n",
    "- car: vehicles\n",
    "- dirt: X\n",
    "- dog: background\n",
    "- ...\n",
    "\n"
   ]
  },
  {
   "cell_type": "code",
   "execution_count": null,
   "metadata": {},
   "outputs": [],
   "source": [
    "# PRIMA VERIFICA IL NUMERO TOTALE DI PIXEL PER OGNI CLASSE, PER INDIVIDUARE QUELLE PIU' RARE\n",
    "# - init dict with keys the colors/category str and value count = 0\n",
    "# - Load mask\n",
    "# - For each color/category, count n pixels\n",
    "# - add to main dict"
   ]
  },
  {
   "cell_type": "code",
   "execution_count": 5,
   "metadata": {},
   "outputs": [],
   "source": [
    "dict_i = {key: 0 for key in category_colors}"
   ]
  },
  {
   "cell_type": "code",
   "execution_count": 92,
   "metadata": {},
   "outputs": [
    {
     "data": {
      "text/plain": [
       "{'unlabeled': 536,\n",
       " 'paved-area': 27274,\n",
       " 'dirt': 69,\n",
       " 'grass': 0,\n",
       " 'gravel': 8893,\n",
       " 'water': 20817,\n",
       " 'rocks': 6331,\n",
       " 'pool': 0,\n",
       " 'vegetation': 8249,\n",
       " 'roof': 42978,\n",
       " 'wall': 753,\n",
       " 'window': 802,\n",
       " 'door': 0,\n",
       " 'fence': 922,\n",
       " 'fence-pole': 46,\n",
       " 'person': 688,\n",
       " 'dog': 0,\n",
       " 'car': 0,\n",
       " 'bicycle': 0,\n",
       " 'tree': 0,\n",
       " 'bald-tree': 375,\n",
       " 'ar-marker': 841,\n",
       " 'obstacle': 426,\n",
       " 'conflicting': 0}"
      ]
     },
     "execution_count": 92,
     "metadata": {},
     "output_type": "execute_result"
    }
   ],
   "source": [
    "for category in dict_i:\n",
    "    count = np.sum(np.all(mask == category_colors[category], axis=2))\n",
    "    dict_i[category] = count\n",
    "\n",
    "dict_i"
   ]
  },
  {
   "cell_type": "code",
   "execution_count": 10,
   "metadata": {},
   "outputs": [
    {
     "name": "stderr",
     "output_type": "stream",
     "text": [
      "100%|██████████| 400/400 [02:44<00:00,  2.43it/s]\n"
     ]
    }
   ],
   "source": [
    "pixel_counts = {key: 0 for key in category_colors}\n",
    "\n",
    "for i in tqdm(range(len(mask_filepaths))):\n",
    "    # Load mask\n",
    "    mask = cv2.imread(mask_filepaths[i])\n",
    "    mask = cv2.cvtColor(mask, cv2.COLOR_BGR2RGB)\n",
    "    mask = cv2.resize(mask, (400, 300), interpolation=cv2.INTER_NEAREST)\n",
    "    # Init empty count dict for the mask\n",
    "    mask_pixel_counts = {key: 0 for key in category_colors}\n",
    "    # For each category count n pixels and add to mask dict\n",
    "    for category in mask_pixel_counts:\n",
    "        count = np.sum(np.all(mask == category_colors[category], axis=2))\n",
    "        mask_pixel_counts[category] = count.item() # as int, not np.array\n",
    "    # Add mask dict values to main dict\n",
    "    for key in mask_pixel_counts:\n",
    "        pixel_counts[key] += mask_pixel_counts[key]"
   ]
  },
  {
   "cell_type": "code",
   "execution_count": 19,
   "metadata": {},
   "outputs": [],
   "source": [
    "with open('data/category_pixel_counts.json', 'w') as file:\n",
    "    json.dump(pixel_counts, file)"
   ]
  },
  {
   "cell_type": "code",
   "execution_count": null,
   "metadata": {},
   "outputs": [],
   "source": [
    "# {'unlabeled': 208265,\n",
    "#  'paved-area': 18077031,\n",
    "#  'dirt': 1532646,\n",
    "#  'grass': 9572780,\n",
    "#  'gravel': 3498789,\n",
    "#  'water': 1060368,\n",
    "#  'rocks': 344291,\n",
    "#  'pool': 305976,\n",
    "#  'vegetation': 3402091,\n",
    "#  'roof': 3526005,\n",
    "#  'wall': 1287064,\n",
    "#  'window': 267951,\n",
    "#  'door': 14928,\n",
    "#  'fence': 458427,\n",
    "#  'fence-pole': 25384,\n",
    "#  'person': 504175,\n",
    "#  'dog': 6824,\n",
    "#  'car': 376627,\n",
    "#  'bicycle': 103413,\n",
    "#  'tree': 983037,\n",
    "#  'bald-tree': 637444,\n",
    "#  'ar-marker': 109145,\n",
    "#  'obstacle': 1697339,\n",
    "#  'conflicting': 0}"
   ]
  }
 ],
 "metadata": {
  "kernelspec": {
   "display_name": "gym",
   "language": "python",
   "name": "python3"
  },
  "language_info": {
   "codemirror_mode": {
    "name": "ipython",
    "version": 3
   },
   "file_extension": ".py",
   "mimetype": "text/x-python",
   "name": "python",
   "nbconvert_exporter": "python",
   "pygments_lexer": "ipython3",
   "version": "3.9.16"
  },
  "orig_nbformat": 4
 },
 "nbformat": 4,
 "nbformat_minor": 2
}
