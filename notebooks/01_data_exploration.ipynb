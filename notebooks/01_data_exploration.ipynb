{
 "cells": [
  {
   "cell_type": "code",
   "execution_count": 1,
   "metadata": {},
   "outputs": [],
   "source": [
    "import os\n",
    "import cv2\n",
    "from tqdm import tqdm\n",
    "import random\n",
    "import numpy as np\n",
    "import json\n",
    "import matplotlib.pyplot as plt\n",
    "import yaml\n",
    "from collections import Counter"
   ]
  },
  {
   "cell_type": "code",
   "execution_count": 2,
   "metadata": {},
   "outputs": [],
   "source": [
    "os.chdir('/home/gptrapletti/ds/satellite-multiclass-segm')"
   ]
  },
  {
   "attachments": {},
   "cell_type": "markdown",
   "metadata": {},
   "source": [
    "# <ins> DATA EXPLORATION ON THE ORIGINAL IMAGE AND MASK DATA"
   ]
  },
  {
   "cell_type": "code",
   "execution_count": 3,
   "metadata": {},
   "outputs": [
    {
     "data": {
      "text/plain": [
       "(400, 400)"
      ]
     },
     "execution_count": 3,
     "metadata": {},
     "output_type": "execute_result"
    }
   ],
   "source": [
    "image_filepaths = sorted([os.path.join('data/images', filename) for filename in os.listdir(os.path.join('data/images'))])\n",
    "mask_filepaths = sorted([os.path.join('data/masks', filename) for filename in os.listdir(os.path.join('data/masks'))])\n",
    "\n",
    "len(image_filepaths), len(mask_filepaths)"
   ]
  },
  {
   "cell_type": "code",
   "execution_count": 17,
   "metadata": {},
   "outputs": [
    {
     "name": "stderr",
     "output_type": "stream",
     "text": [
      "100%|██████████| 400/400 [04:13<00:00,  1.58it/s]\n"
     ]
    },
    {
     "data": {
      "text/plain": [
       "{((4000, 6000, 3), (4000, 6000, 3))}"
      ]
     },
     "execution_count": 17,
     "metadata": {},
     "output_type": "execute_result"
    }
   ],
   "source": [
    "# Check image sizes\n",
    "sizes = []\n",
    "for i in tqdm(range(len(image_filepaths))):\n",
    "    image = cv2.imread(image_filepaths[i])\n",
    "    image = cv2.cvtColor(image, cv2.COLOR_BGR2RGB)\n",
    "    mask = cv2.imread(mask_filepaths[i])\n",
    "    mask = cv2.cvtColor(mask, cv2.COLOR_BGR2RGB)\n",
    "    size = (image.shape, mask.shape)\n",
    "    sizes.append(size)\n",
    "    \n",
    "set(sizes)"
   ]
  },
  {
   "attachments": {},
   "cell_type": "markdown",
   "metadata": {},
   "source": [
    "All the images have the same size."
   ]
  },
  {
   "cell_type": "code",
   "execution_count": 11,
   "metadata": {},
   "outputs": [],
   "source": [
    "category_colors = {\n",
    "    \"unlabeled\": (0, 0, 0),\n",
    "    \"paved-area\": (128, 64, 128),\n",
    "    \"dirt\": (130, 76, 0),\n",
    "    \"grass\": (0, 102, 0),\n",
    "    \"gravel\": (112, 103, 87),\n",
    "    \"water\": (28, 42, 168),\n",
    "    \"rocks\": (48, 41, 30),\n",
    "    \"pool\": (0, 50, 89),\n",
    "    \"vegetation\": (107, 142, 35),\n",
    "    \"roof\": (70, 70, 70),\n",
    "    \"wall\": (102, 102, 156),\n",
    "    \"window\": (254, 228, 12),\n",
    "    \"door\": (254, 148, 12),\n",
    "    \"fence\": (190, 153, 153),\n",
    "    \"fence-pole\": (153, 153, 153),\n",
    "    \"person\": (255, 22, 96),\n",
    "    \"dog\": (102, 51, 0),\n",
    "    \"car\": (9, 143, 150),\n",
    "    \"bicycle\": (119, 11, 32),\n",
    "    \"tree\": (51, 51, 0),\n",
    "    \"bald-tree\": (190, 250, 190),\n",
    "    \"ar-marker\": (112, 150, 146),\n",
    "    \"obstacle\": (2, 135, 115),\n",
    "    \"conflicting\": (255, 0, 0)\n",
    "}"
   ]
  },
  {
   "attachments": {},
   "cell_type": "markdown",
   "metadata": {},
   "source": [
    "For each class, look for 3 random images showing that class, turn everything to black and then plot."
   ]
  },
  {
   "cell_type": "code",
   "execution_count": null,
   "metadata": {},
   "outputs": [],
   "source": [
    "random_idxs = list(range(len(mask_filepaths)))\n",
    "\n",
    "category_examples = {}\n",
    "for category in tqdm(category_colors):\n",
    "    random.shuffle(random_idxs)\n",
    "    example_idxs = []\n",
    "    n = 0\n",
    "    for i in random_idxs:\n",
    "        n += 1\n",
    "        mask = cv2.imread(mask_filepaths[i])\n",
    "        mask = cv2.cvtColor(mask, cv2.COLOR_BGR2RGB)\n",
    "        has_color = np.any(np.all(mask == category_colors[category], axis=2)) # if mask == [128, 64, 128] across color channels\n",
    "        # If it has at least a pixel with the object class color\n",
    "        if has_color:\n",
    "            example_idxs.append(i)\n",
    "        if len(example_idxs) == 3: # examples found\n",
    "            category_examples[category] = example_idxs           \n",
    "            break\n",
    "        elif i == random_idxs[-1]: # no examples found\n",
    "            break"
   ]
  },
  {
   "cell_type": "code",
   "execution_count": 21,
   "metadata": {},
   "outputs": [],
   "source": [
    "# # Saver dict\n",
    "# with open('data/category_examples.json', 'w') as file:\n",
    "#     json.dump(category_examples, file)\n",
    "\n",
    "# Load dict\n",
    "with open('data/category_examples.json', 'r') as file:\n",
    "    category_example_idxs = json.load(file)"
   ]
  },
  {
   "cell_type": "code",
   "execution_count": 6,
   "metadata": {},
   "outputs": [
    {
     "name": "stdout",
     "output_type": "stream",
     "text": [
      "Categories absent in the images are: ['conflicting']\n"
     ]
    }
   ],
   "source": [
    "absent_categories = set(category_colors) - set(category_example_idxs)\n",
    "print(f'Categories absent in the images are: {list(absent_categories)}')"
   ]
  },
  {
   "cell_type": "code",
   "execution_count": 83,
   "metadata": {},
   "outputs": [
    {
     "name": "stderr",
     "output_type": "stream",
     "text": [
      "100%|██████████| 23/23 [00:48<00:00,  2.13s/it]\n"
     ]
    }
   ],
   "source": [
    "# For each category, find 3 images with objects of that category, turn everything to background and save plots.\n",
    "categories = sorted(list(category_example_idxs))\n",
    "\n",
    "for category in tqdm(categories):\n",
    "    fig, axs = plt.subplots(1, 3, figsize=(20, 6))\n",
    "    for i, idx in enumerate(category_example_idxs[category]):\n",
    "        # Load image\n",
    "        image = cv2.imread(image_filepaths[idx])\n",
    "        image = cv2.cvtColor(image, cv2.COLOR_BGR2RGB)\n",
    "        image = cv2.resize(image, (400, 300))\n",
    "        # Load mask\n",
    "        mask = cv2.imread(mask_filepaths[idx])\n",
    "        mask = cv2.cvtColor(mask, cv2.COLOR_BGR2RGB)\n",
    "        mask = cv2.resize(mask, (400, 300), interpolation=cv2.INTER_NEAREST)\n",
    "        # Keep only category of interest in the mask\n",
    "        filter = np.all(mask == category_colors[category], axis=2)\n",
    "        filter = np.stack([filter]*3, axis=-1)\n",
    "        # Filter image\n",
    "        image_filtered = image * filter\n",
    "        # Plot        \n",
    "        axs[i].imshow(image_filtered)\n",
    "        axs[i].axis('off')\n",
    "        axs[i].set_title(category)\n",
    "    \n",
    "    fig.tight_layout()\n",
    "    fig.savefig(f'plots/{category}.png')\n",
    "    plt.close(fig)   "
   ]
  },
  {
   "cell_type": "code",
   "execution_count": 20,
   "metadata": {},
   "outputs": [
    {
     "name": "stderr",
     "output_type": "stream",
     "text": [
      "/tmp/ipykernel_5319/1253421455.py:5: RuntimeWarning: More than 20 figures have been opened. Figures created through the pyplot interface (`matplotlib.pyplot.figure`) are retained until explicitly closed and may consume too much memory. (To control this warning, see the rcParam `figure.max_open_warning`). Consider using `matplotlib.pyplot.close()`.\n",
      "  plt.figure(figsize=(2, 4))\n"
     ]
    },
    {
     "data": {
      "image/png": "[encoded data removed]",
      "text/plain": [
       "<Figure size 200x400 with 1 Axes>"
      ]
     },
     "metadata": {},
     "output_type": "display_data"
    },
    {
     "data": {
      "image/png": "[encoded data removed]",
      "text/plain": [
       "<Figure size 200x400 with 1 Axes>"
      ]
     },
     "metadata": {},
     "output_type": "display_data"
    },
    {
     "data": {
      "image/png": "[encoded data removed]",
      "text/plain": [
       "<Figure size 200x400 with 1 Axes>"
      ]
     },
     "metadata": {},
     "output_type": "display_data"
    },
    {
     "data": {
      "image/png": "[encoded data removed]",
      "text/plain": [
       "<Figure size 200x400 with 1 Axes>"
      ]
     },
     "metadata": {},
     "output_type": "display_data"
    },
    {
     "data": {
      "image/png": "[encoded data removed]",
      "text/plain": [
       "<Figure size 200x400 with 1 Axes>"
      ]
     },
     "metadata": {},
     "output_type": "display_data"
    },
    {
     "data": {
      "image/png": "[encoded data removed]",
      "text/plain": [
       "<Figure size 200x400 with 1 Axes>"
      ]
     },
     "metadata": {},
     "output_type": "display_data"
    },
    {
     "data": {
      "image/png": "[encoded data removed]",
      "text/plain": [
       "<Figure size 200x400 with 1 Axes>"
      ]
     },
     "metadata": {},
     "output_type": "display_data"
    },
    {
     "data": {
      "image/png": "[encoded data removed]",
      "text/plain": [
       "<Figure size 200x400 with 1 Axes>"
      ]
     },
     "metadata": {},
     "output_type": "display_data"
    },
    {
     "data": {
      "image/png": "[encoded data removed]",
      "text/plain": [
       "<Figure size 200x400 with 1 Axes>"
      ]
     },
     "metadata": {},
     "output_type": "display_data"
    },
    {
     "data": {
      "image/png": "[encoded data removed]",
      "text/plain": [
       "<Figure size 200x400 with 1 Axes>"
      ]
     },
     "metadata": {},
     "output_type": "display_data"
    },
    {
     "data": {
      "image/png": "[encoded data removed]",
      "text/plain": [
       "<Figure size 200x400 with 1 Axes>"
      ]
     },
     "metadata": {},
     "output_type": "display_data"
    },
    {
     "data": {
      "image/png": "[encoded data removed]",
      "text/plain": [
       "<Figure size 200x400 with 1 Axes>"
      ]
     },
     "metadata": {},
     "output_type": "display_data"
    },
    {
     "data": {
      "image/png": "[encoded data removed]",
      "text/plain": [
       "<Figure size 200x400 with 1 Axes>"
      ]
     },
     "metadata": {},
     "output_type": "display_data"
    },
    {
     "data": {
      "image/png": "[encoded data removed]",
      "text/plain": [
       "<Figure size 200x400 with 1 Axes>"
      ]
     },
     "metadata": {},
     "output_type": "display_data"
    },
    {
     "data": {
      "image/png": "[encoded data removed]",
      "text/plain": [
       "<Figure size 200x400 with 1 Axes>"
      ]
     },
     "metadata": {},
     "output_type": "display_data"
    },
    {
     "data": {
      "image/png": "[encoded data removed]",
      "text/plain": [
       "<Figure size 200x400 with 1 Axes>"
      ]
     },
     "metadata": {},
     "output_type": "display_data"
    },
    {
     "data": {
      "image/png": "[encoded data removed]",
      "text/plain": [
       "<Figure size 200x400 with 1 Axes>"
      ]
     },
     "metadata": {},
     "output_type": "display_data"
    },
    {
     "data": {
      "image/png": "[encoded data removed]",
      "text/plain": [
       "<Figure size 200x400 with 1 Axes>"
      ]
     },
     "metadata": {},
     "output_type": "display_data"
    },
    {
     "data": {
      "image/png": "[encoded data removed]",
      "text/plain": [
       "<Figure size 200x400 with 1 Axes>"
      ]
     },
     "metadata": {},
     "output_type": "display_data"
    },
    {
     "data": {
      "image/png": "[encoded data removed]",
      "text/plain": [
       "<Figure size 200x400 with 1 Axes>"
      ]
     },
     "metadata": {},
     "output_type": "display_data"
    },
    {
     "data": {
      "image/png": "[encoded data removed]",
      "text/plain": [
       "<Figure size 200x400 with 1 Axes>"
      ]
     },
     "metadata": {},
     "output_type": "display_data"
    },
    {
     "data": {
      "image/png": "[encoded data removed]",
      "text/plain": [
       "<Figure size 200x400 with 1 Axes>"
      ]
     },
     "metadata": {},
     "output_type": "display_data"
    },
    {
     "data": {
      "image/png": "[encoded data removed]",
      "text/plain": [
       "<Figure size 200x400 with 1 Axes>"
      ]
     },
     "metadata": {},
     "output_type": "display_data"
    },
    {
     "data": {
      "image/png": "[encoded data removed]",
      "text/plain": [
       "<Figure size 200x400 with 1 Axes>"
      ]
     },
     "metadata": {},
     "output_type": "display_data"
    }
   ],
   "source": [
    "# Show category colors\n",
    "for category in category_colors:\n",
    "    color = category_colors[category]\n",
    "    arr = np.stack(4*[color], axis=0)[np.newaxis, ...]\n",
    "    plt.figure(figsize=(2, 4))\n",
    "    plt.imshow(arr)\n",
    "    plt.axis('off')\n",
    "    plt.title(category)"
   ]
  },
  {
   "cell_type": "code",
   "execution_count": null,
   "metadata": {},
   "outputs": [
    {
     "name": "stderr",
     "output_type": "stream",
     "text": [
      "100%|██████████| 400/400 [02:44<00:00,  2.43it/s]\n"
     ]
    }
   ],
   "source": [
    "# Count total number of pixels for each category\n",
    "# (Actually it's not the total numer of pixels because the\n",
    "# images get resized and background is not counted).\n",
    "pixel_counts = {key: 0 for key in category_colors}\n",
    "\n",
    "for i in tqdm(range(len(mask_filepaths))):\n",
    "    # Load mask\n",
    "    mask = cv2.imread(mask_filepaths[i])\n",
    "    mask = cv2.cvtColor(mask, cv2.COLOR_BGR2RGB)\n",
    "    mask = cv2.resize(mask, (400, 300), interpolation=cv2.INTER_NEAREST)\n",
    "    # Init empty count dict for the mask\n",
    "    mask_pixel_counts = {key: 0 for key in category_colors}\n",
    "    # For each category count n pixels and add to mask dict\n",
    "    for category in mask_pixel_counts:\n",
    "        count = np.sum(np.all(mask == category_colors[category], axis=2))\n",
    "        mask_pixel_counts[category] = count.item() # as int, not np.array\n",
    "    # Add mask dict values to main dict\n",
    "    for key in mask_pixel_counts:\n",
    "        pixel_counts[key] += mask_pixel_counts[key]"
   ]
  },
  {
   "cell_type": "code",
   "execution_count": 22,
   "metadata": {},
   "outputs": [],
   "source": [
    "# Save\n",
    "# with open('data/category_pixel_counts.json', 'w') as file:\n",
    "#     json.dump(pixel_counts, file)\n",
    "\n",
    "# Load\n",
    "with open('data/category_pixel_counts.json', 'r') as file:\n",
    "    pixel_counts = json.load(file)"
   ]
  },
  {
   "cell_type": "code",
   "execution_count": 8,
   "metadata": {},
   "outputs": [
    {
     "data": {
      "text/plain": [
       "[('paved-area', 0.3766),\n",
       " ('grass', 0.1994),\n",
       " ('roof', 0.0735),\n",
       " ('gravel', 0.0729),\n",
       " ('vegetation', 0.0709),\n",
       " ('obstacle', 0.0354),\n",
       " ('dirt', 0.0319),\n",
       " ('wall', 0.0268),\n",
       " ('water', 0.0221),\n",
       " ('tree', 0.0205),\n",
       " ('bald-tree', 0.0133),\n",
       " ('person', 0.0105),\n",
       " ('fence', 0.0096),\n",
       " ('car', 0.0078),\n",
       " ('rocks', 0.0072),\n",
       " ('pool', 0.0064),\n",
       " ('window', 0.0056),\n",
       " ('unlabeled', 0.0043),\n",
       " ('ar-marker', 0.0023),\n",
       " ('bicycle', 0.0022),\n",
       " ('fence-pole', 0.0005),\n",
       " ('door', 0.0003),\n",
       " ('dog', 0.0001),\n",
       " ('conflicting', 0.0)]"
      ]
     },
     "execution_count": 8,
     "metadata": {},
     "output_type": "execute_result"
    }
   ],
   "source": [
    "# Get percentage of pixels for each category on the total number of pixels\n",
    "# belonging to some category.\n",
    "n_tot_pixels = np.sum([pixel_counts[category] for category in pixel_counts])\n",
    "pixel_percs = {category: np.round(pixel_counts[category]/n_tot_pixels, 4) for category in pixel_counts}\n",
    "\n",
    "sorted(list(pixel_percs.items()), key=lambda x: -x[1])"
   ]
  },
  {
   "cell_type": "code",
   "execution_count": 14,
   "metadata": {},
   "outputs": [],
   "source": [
    "# Relabeling\n",
    "regrouping = {\n",
    "    'background': ['ar-marker', 'obstacle', 'car', 'unlabeled', 'bicycle', 'dog', 'conflicting', 'fence', 'pool', 'fence-pole'],\n",
    "    'ground': ['paved-area', 'gravel', 'dirt', 'rocks'],\n",
    "    'vegetation': ['grass', 'vegetation', 'tree', 'bald-tree'],\n",
    "    'buildings': ['roof', 'wall', 'window', 'door'],\n",
    "    'water': ['water'],\n",
    "    'person' : ['person']\n",
    "}"
   ]
  },
  {
   "cell_type": "code",
   "execution_count": 15,
   "metadata": {},
   "outputs": [
    {
     "data": {
      "text/plain": [
       "[('ground', 0.4886),\n",
       " ('vegetation', 0.3041),\n",
       " ('buildings', 0.1062),\n",
       " ('background', 0.0686),\n",
       " ('water', 0.0221),\n",
       " ('person', 0.0105)]"
      ]
     },
     "execution_count": 15,
     "metadata": {},
     "output_type": "execute_result"
    }
   ],
   "source": [
    "# New category percentages\n",
    "new_pixel_percs = {}\n",
    "for new_category in regrouping:\n",
    "    new_category_pixel_count = []\n",
    "    for category in regrouping[new_category]:\n",
    "        new_category_pixel_count.append(pixel_counts[category])\n",
    "    new_pixel_percs[new_category] = np.round(np.sum(new_category_pixel_count) / n_tot_pixels, 4)\n",
    "    \n",
    "sorted(list(new_pixel_percs.items()), key=lambda x:-x[1])       "
   ]
  },
  {
   "cell_type": "code",
   "execution_count": 16,
   "metadata": {},
   "outputs": [
    {
     "name": "stdout",
     "output_type": "stream",
     "text": [
      "('background', [(112, 150, 146), (2, 135, 115), (9, 143, 150), (0, 0, 0), (119, 11, 32), (102, 51, 0), (255, 0, 0), (190, 153, 153), (0, 50, 89), (153, 153, 153)])\n",
      "('ground', [(128, 64, 128), (112, 103, 87), (130, 76, 0), (48, 41, 30)])\n",
      "('vegetation', [(0, 102, 0), (107, 142, 35), (51, 51, 0), (190, 250, 190)])\n",
      "('buildings', [(70, 70, 70), (102, 102, 156), (254, 228, 12), (254, 148, 12)])\n",
      "('water', [(28, 42, 168)])\n",
      "('person', [(255, 22, 96)])\n"
     ]
    }
   ],
   "source": [
    "# Original colors to map to the new categories\n",
    "new_category_colors = {}\n",
    "\n",
    "for new_category in regrouping:\n",
    "    new_category_color_ls = []\n",
    "    for category in regrouping[new_category]:\n",
    "        new_category_color_ls.append(category_colors[category])\n",
    "    new_category_colors[new_category] = new_category_color_ls\n",
    "    \n",
    "for item in new_category_colors.items():\n",
    "    print(item)"
   ]
  },
  {
   "attachments": {},
   "cell_type": "markdown",
   "metadata": {},
   "source": [
    "The \"background\" class name is later changed to \"other\" because it was not the proper background, which is absent since every pixel il labelled. "
   ]
  },
  {
   "attachments": {},
   "cell_type": "markdown",
   "metadata": {},
   "source": [
    "# <ins> CHECK DATA AFTER PRE-PROCESSING"
   ]
  },
  {
   "cell_type": "code",
   "execution_count": 8,
   "metadata": {},
   "outputs": [
    {
     "data": {
      "text/plain": [
       "{'images_dir': 'data/images',\n",
       " 'masks_dir': 'data/masks',\n",
       " 'n_random_patches_per_image': 50,\n",
       " 'patch_size': 256,\n",
       " 'patch_overlap': 0.5}"
      ]
     },
     "execution_count": 8,
     "metadata": {},
     "output_type": "execute_result"
    }
   ],
   "source": [
    "import yaml\n",
    "with open('config.yaml', 'r') as f:\n",
    "    cfg = yaml.safe_load(f)\n",
    "    \n",
    "cfg"
   ]
  },
  {
   "cell_type": "code",
   "execution_count": 9,
   "metadata": {},
   "outputs": [
    {
     "data": {
      "text/plain": [
       "(400, 400)"
      ]
     },
     "execution_count": 9,
     "metadata": {},
     "output_type": "execute_result"
    }
   ],
   "source": [
    "image_filepaths = sorted([os.path.join(cfg['images_dir'], filename) for filename in os.listdir(os.path.join(cfg['images_dir']))])\n",
    "mask_filepaths = sorted([os.path.join(cfg['masks_dir'], filename) for filename in os.listdir(os.path.join(cfg['masks_dir']))])\n",
    "\n",
    "len(image_filepaths), len(mask_filepaths)"
   ]
  },
  {
   "cell_type": "code",
   "execution_count": 9,
   "metadata": {},
   "outputs": [
    {
     "name": "stderr",
     "output_type": "stream",
     "text": [
      "100%|██████████| 400/400 [00:40<00:00,  9.76it/s]\n"
     ]
    },
    {
     "data": {
      "text/plain": [
       "{((2000, 3000, 3), (2000, 3000, 3))}"
      ]
     },
     "execution_count": 9,
     "metadata": {},
     "output_type": "execute_result"
    }
   ],
   "source": [
    "# Check image and mask sizes\n",
    "sizes = []\n",
    "for i in tqdm(range(len(image_filepaths))):\n",
    "    image = cv2.imread(image_filepaths[i])\n",
    "    image = cv2.cvtColor(image, cv2.COLOR_BGR2RGB)\n",
    "    mask = cv2.imread(mask_filepaths[i])\n",
    "    mask = cv2.cvtColor(mask, cv2.COLOR_BGR2RGB)\n",
    "    size = (image.shape, mask.shape)\n",
    "    sizes.append(size)\n",
    "    \n",
    "set(sizes)"
   ]
  },
  {
   "cell_type": "code",
   "execution_count": 10,
   "metadata": {},
   "outputs": [
    {
     "name": "stderr",
     "output_type": "stream",
     "text": [
      "100%|██████████| 400/400 [00:05<00:00, 76.62it/s]\n"
     ]
    },
    {
     "data": {
      "text/plain": [
       "Counter({0: 395, 1: 386, 2: 325, 3: 276, 4: 156, 5: 66, 6: 32, 7: 1})"
      ]
     },
     "execution_count": 10,
     "metadata": {},
     "output_type": "execute_result"
    }
   ],
   "source": [
    "# Check class distribution as the number of masks having at least a pixel of that class\n",
    "labels_ls = []\n",
    "for i in tqdm(range(len(mask_filepaths))):\n",
    "    mask = cv2.imread(mask_filepaths[i])[0]\n",
    "    labels = np.unique(mask).tolist()\n",
    "    for label in labels:\n",
    "        labels_ls.append(label)\n",
    "        \n",
    "Counter(labels_ls)\n",
    "\n",
    "# Counter({0: 395, 1: 386, 2: 325, 3: 276, 4: 156, 5: 66, 6: 32, 7: 1})"
   ]
  },
  {
   "cell_type": "code",
   "execution_count": 25,
   "metadata": {},
   "outputs": [
    {
     "data": {
      "text/plain": [
       "[('ground', 0.4886),\n",
       " ('vegetation', 0.3041),\n",
       " ('buildings', 0.1226),\n",
       " ('background', 0.0521),\n",
       " ('water', 0.0221),\n",
       " ('person', 0.0105)]"
      ]
     },
     "execution_count": 25,
     "metadata": {},
     "output_type": "execute_result"
    }
   ],
   "source": [
    "# New category percentages\n",
    "# Relabeling\n",
    "regrouping = {\n",
    "    'background': ['ar-marker', 'obstacle', 'car', 'unlabeled', 'bicycle', 'dog', 'conflicting'],\n",
    "    'ground': ['paved-area', 'gravel', 'dirt', 'rocks'],\n",
    "    'vegetation': ['grass', 'vegetation', 'tree', 'bald-tree'],\n",
    "    'buildings': ['roof', 'wall', 'window', 'door', 'fence', 'pool', 'fence-pole'],\n",
    "    'water': ['water'],\n",
    "    'person' : ['person']\n",
    "}\n",
    "\n",
    "n_tot_pixels = np.sum([pixel_counts[category] for category in pixel_counts])\n",
    "\n",
    "new_pixel_percs = {}\n",
    "for new_category in regrouping:\n",
    "    new_category_pixel_count = []\n",
    "    for category in regrouping[new_category]:\n",
    "        new_category_pixel_count.append(pixel_counts[category])\n",
    "    new_pixel_percs[new_category] = np.round(np.sum(new_category_pixel_count) / n_tot_pixels, 4)\n",
    "    \n",
    "sorted(list(new_pixel_percs.items()), key=lambda x:-x[1])"
   ]
  },
  {
   "attachments": {},
   "cell_type": "markdown",
   "metadata": {},
   "source": [
    "# <ins> COMPUTE NORMALIZATION PARAMETERS"
   ]
  },
  {
   "cell_type": "code",
   "execution_count": null,
   "metadata": {},
   "outputs": [],
   "source": [
    "import torch"
   ]
  },
  {
   "cell_type": "code",
   "execution_count": null,
   "metadata": {},
   "outputs": [
    {
     "name": "stderr",
     "output_type": "stream",
     "text": [
      "100%|██████████| 400/400 [00:26<00:00, 15.09it/s]\n"
     ]
    },
    {
     "data": {
      "text/plain": [
       "tensor([0.4456, 0.4436, 0.4018], device='cuda:0', dtype=torch.float64)"
      ]
     },
     "metadata": {},
     "output_type": "display_data"
    }
   ],
   "source": [
    "norm_mean = torch.tensor(np.zeros(3)).to('cuda')\n",
    "\n",
    "for i in tqdm(range(len(image_filepaths))):\n",
    "    image = cv2.imread(image_filepaths[i])\n",
    "    image = cv2.cvtColor(image, cv2.COLOR_BGR2RGB)\n",
    "    image = torch.tensor(image).to('cuda')\n",
    "    image = image / 255.0 # necessary to norm_mean to be [0, 1: float], as needed by A.Normalize\n",
    "    image_mean = torch.mean(image, axis=(0, 1)) # image has shape: (width, height, channels)\n",
    "    norm_mean = torch.add(norm_mean, image_mean)\n",
    "    \n",
    "norm_mean = norm_mean/len(image_filepaths)\n",
    "norm_mean.item()\n",
    "\n",
    "# [0.4456, 0.4436, 0.4018]"
   ]
  },
  {
   "cell_type": "code",
   "execution_count": null,
   "metadata": {},
   "outputs": [
    {
     "name": "stderr",
     "output_type": "stream",
     "text": [
      "100%|██████████| 400/400 [00:26<00:00, 15.20it/s]\n"
     ]
    },
    {
     "data": {
      "text/plain": [
       "tensor([0.2220, 0.2154, 0.2298], device='cuda:0', dtype=torch.float64)"
      ]
     },
     "metadata": {},
     "output_type": "display_data"
    }
   ],
   "source": [
    "norm_variance = torch.tensor(np.zeros(3)).to('cuda')\n",
    "\n",
    "for i in tqdm(range(len(image_filepaths))):\n",
    "    image = cv2.imread(image_filepaths[i])\n",
    "    image = cv2.cvtColor(image, cv2.COLOR_BGR2RGB)\n",
    "    image = torch.tensor(image).to('cuda')\n",
    "    image = image / 255.0\n",
    "    for channel_idx in range(image.shape[-1]):\n",
    "        channel = image[:, :, channel_idx]\n",
    "        channel_variance = ((channel - norm_mean[channel_idx])**2).sum() / (channel.shape[0]*channel.shape[1])\n",
    "        norm_variance[channel_idx] += channel_variance\n",
    "\n",
    "norm_variance = norm_variance/len(image_filepaths)\n",
    "norm_std = torch.sqrt(norm_variance)\n",
    "norm_std.item()\n",
    "\n",
    "# [0.2220, 0.2154, 0.2298]"
   ]
  },
  {
   "attachments": {},
   "cell_type": "markdown",
   "metadata": {},
   "source": [
    "# <ins> FIND GOOD SPLITS\n",
    "Find how to split in train, val and test sets so that each set has more or less the original class frequencies."
   ]
  },
  {
   "attachments": {},
   "cell_type": "markdown",
   "metadata": {},
   "source": [
    "## COUNT NUMBER OF PIXELS PER CATEGORY AND SAVE JSON"
   ]
  },
  {
   "cell_type": "code",
   "execution_count": 20,
   "metadata": {},
   "outputs": [],
   "source": [
    "categories = [str(i) for i in range(0, 6)]"
   ]
  },
  {
   "cell_type": "code",
   "execution_count": 34,
   "metadata": {},
   "outputs": [
    {
     "name": "stderr",
     "output_type": "stream",
     "text": [
      "100%|██████████| 400/400 [00:18<00:00, 22.15it/s]\n"
     ]
    }
   ],
   "source": [
    "all_pixel_counts = {}\n",
    "for i in tqdm(range(len(mask_filepaths))):\n",
    "    filepath = mask_filepaths[i]\n",
    "    filename = os.path.splitext(os.path.basename(filepath))[0]\n",
    "    # Load mask\n",
    "    mask = cv2.imread(filepath)\n",
    "    mask = cv2.cvtColor(mask, cv2.COLOR_BGR2RGB)\n",
    "    mask = cv2.resize(mask, (1500, 1000), interpolation=cv2.INTER_NEAREST)\n",
    "    mask = mask[..., 0]\n",
    "    # Init empty count dict for the mask\n",
    "    pixel_counts_i = {key: 0 for key in categories}\n",
    "    # For each category count n pixels and add to mask dict\n",
    "    for category in pixel_counts_i:\n",
    "        count = np.sum(mask == int(category))\n",
    "        pixel_counts_i[category] = count.item() # as int, not np.array\n",
    "    # Add to dict\n",
    "    all_pixel_counts[filename] = pixel_counts_i"
   ]
  },
  {
   "cell_type": "code",
   "execution_count": 35,
   "metadata": {},
   "outputs": [],
   "source": [
    "# # Save\n",
    "# with open('data/category_pixel_counts.json', 'w') as file:\n",
    "#     json.dump(all_pixel_counts, file)\n",
    "\n",
    "# Load\n",
    "with open('data/category_pixel_counts.json', 'r') as file:\n",
    "    all_pixel_counts = json.load(file)"
   ]
  },
  {
   "attachments": {},
   "cell_type": "markdown",
   "metadata": {},
   "source": [
    "## FIND BEST SPLIT"
   ]
  },
  {
   "cell_type": "code",
   "execution_count": 49,
   "metadata": {},
   "outputs": [
    {
     "data": {
      "text/plain": [
       "19"
      ]
     },
     "execution_count": 49,
     "metadata": {},
     "output_type": "execute_result"
    }
   ],
   "source": [
    "with open('data/good_splits.json', 'r') as file:\n",
    "    splits = json.load(file)\n",
    "    \n",
    "len(splits)"
   ]
  },
  {
   "cell_type": "code",
   "execution_count": 52,
   "metadata": {},
   "outputs": [
    {
     "data": {
      "text/plain": [
       "{'0': 0.004, '1': 0.0101, '2': 0.0029, '3': 0.003, '4': 0.0001, '5': 0.0}"
      ]
     },
     "execution_count": 52,
     "metadata": {},
     "output_type": "execute_result"
    }
   ],
   "source": [
    "splits[0]['train_diffs']"
   ]
  },
  {
   "cell_type": "code",
   "execution_count": 54,
   "metadata": {},
   "outputs": [
    {
     "data": {
      "text/plain": [
       "[(18, 0.0387, (0.0079, 0.0094, 0.0214)),\n",
       " (8, 0.0624, (0.0112, 0.009, 0.0422)),\n",
       " (17, 0.1023, (0.012299999999999998, 0.043899999999999995, 0.0461)),\n",
       " (13, 0.1086, (0.0255, 0.044300000000000006, 0.0388)),\n",
       " (1, 0.1285, (0.0294, 0.0475, 0.05160000000000001)),\n",
       " (14, 0.1402, (0.0184, 0.033100000000000004, 0.0887)),\n",
       " (15, 0.1469, (0.0208, 0.0437, 0.0824)),\n",
       " (6, 0.1472, (0.021199999999999997, 0.0698, 0.0562)),\n",
       " (0, 0.15400000000000003, (0.0201, 0.0675, 0.0664)),\n",
       " (9, 0.15560000000000002, (0.027200000000000002, 0.0499, 0.0785)),\n",
       " (2, 0.1613, (0.0218, 0.07119999999999999, 0.0683)),\n",
       " (16, 0.1615, (0.010199999999999999, 0.05430000000000001, 0.097)),\n",
       " (5, 0.1723, (0.03320000000000001, 0.044, 0.0951)),\n",
       " (12, 0.1835, (0.0167, 0.039900000000000005, 0.12689999999999999)),\n",
       " (7, 0.21889999999999998, (0.012199999999999999, 0.0793, 0.12739999999999999)),\n",
       " (11, 0.2216, (0.043199999999999995, 0.1182, 0.060200000000000004)),\n",
       " (3, 0.2297, (0.03320000000000001, 0.03, 0.16649999999999998)),\n",
       " (10,\n",
       "  0.27559999999999996,\n",
       "  (0.004600000000000001, 0.0861, 0.18489999999999998)),\n",
       " (4, 0.303, (0.0074, 0.0952, 0.2004))]"
      ]
     },
     "execution_count": 54,
     "metadata": {},
     "output_type": "execute_result"
    }
   ],
   "source": [
    "# The best split is the one with the lowest differences\n",
    "# all the diffs of a split are summed (separately for train, val, test)\n",
    "# and the split with the lower results is considered the best\n",
    "sums = []\n",
    "for idx, split in enumerate(splits):\n",
    "    train_diff_sum = sum(list(split['train_diffs'].values()))\n",
    "    val_diff_sum = sum(list(split['val_diffs'].values()))\n",
    "    test_diff_sum = sum(list(split['test_diffs'].values()))\n",
    "    overall = train_diff_sum + val_diff_sum + test_diff_sum\n",
    "    sums.append((idx, overall, (train_diff_sum, val_diff_sum, test_diff_sum)))\n",
    "    \n",
    "sorted(sums, key=lambda x: x[1])   "
   ]
  },
  {
   "cell_type": "code",
   "execution_count": 55,
   "metadata": {},
   "outputs": [
    {
     "data": {
      "text/plain": [
       "({'0': 0.0011, '1': 0.0017, '2': 0.0022, '3': 0.0029, '4': 0.0, '5': 0.0},\n",
       " {'0': 0.0013, '1': 0.0035, '2': 0.0013, '3': 0.0033, '4': 0.0, '5': 0.0},\n",
       " {'0': 0.0029, '1': 0.0018, '2': 0.0089, '3': 0.0077, '4': 0.0001, '5': 0.0})"
      ]
     },
     "execution_count": 55,
     "metadata": {},
     "output_type": "execute_result"
    }
   ],
   "source": [
    "splits[18]['train_diffs'], splits[18]['val_diffs'], splits[18]['test_diffs']"
   ]
  },
  {
   "cell_type": "code",
   "execution_count": 56,
   "metadata": {},
   "outputs": [],
   "source": [
    "# # Save split to file\n",
    "# with open('data/split.json', 'w') as file:\n",
    "#     split = splits[18]\n",
    "#     del split['train_diffs'], split['val_diffs'], split['test_diffs']\n",
    "#     json.dump(split, file)"
   ]
  }
 ],
 "metadata": {
  "kernelspec": {
   "display_name": "gym",
   "language": "python",
   "name": "python3"
  },
  "language_info": {
   "codemirror_mode": {
    "name": "ipython",
    "version": 3
   },
   "file_extension": ".py",
   "mimetype": "text/x-python",
   "name": "python",
   "nbconvert_exporter": "python",
   "pygments_lexer": "ipython3",
   "version": "3.9.16"
  },
  "orig_nbformat": 4
 },
 "nbformat": 4,
 "nbformat_minor": 2
}
