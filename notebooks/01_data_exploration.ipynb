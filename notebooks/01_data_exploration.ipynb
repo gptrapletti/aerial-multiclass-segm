{
 "cells": [
  {
   "cell_type": "code",
   "execution_count": 1,
   "metadata": {},
   "outputs": [],
   "source": [
    "import os\n",
    "import cv2\n",
    "from tqdm import tqdm\n",
    "import random\n",
    "import numpy as np\n",
    "import json\n",
    "import matplotlib.pyplot as plt"
   ]
  },
  {
   "cell_type": "code",
   "execution_count": 2,
   "metadata": {},
   "outputs": [],
   "source": [
    "os.chdir('/home/gptrapletti/ds/satellite-multiclass-segm')"
   ]
  },
  {
   "cell_type": "code",
   "execution_count": 3,
   "metadata": {},
   "outputs": [
    {
     "data": {
      "text/plain": [
       "(400, 400)"
      ]
     },
     "execution_count": 3,
     "metadata": {},
     "output_type": "execute_result"
    }
   ],
   "source": [
    "image_filepaths = sorted([os.path.join('data/images', filename) for filename in os.listdir(os.path.join('data/images'))])\n",
    "mask_filepaths = sorted([os.path.join('data/masks', filename) for filename in os.listdir(os.path.join('data/masks'))])\n",
    "\n",
    "len(image_filepaths), len(mask_filepaths)"
   ]
  },
  {
   "cell_type": "code",
   "execution_count": 17,
   "metadata": {},
   "outputs": [
    {
     "name": "stderr",
     "output_type": "stream",
     "text": [
      "100%|██████████| 400/400 [04:13<00:00,  1.58it/s]\n"
     ]
    },
    {
     "data": {
      "text/plain": [
       "{((4000, 6000, 3), (4000, 6000, 3))}"
      ]
     },
     "execution_count": 17,
     "metadata": {},
     "output_type": "execute_result"
    }
   ],
   "source": [
    "# Check image sizes\n",
    "sizes = []\n",
    "for i in tqdm(range(len(image_filepaths))):\n",
    "    image = cv2.imread(image_filepaths[i])\n",
    "    image = cv2.cvtColor(image, cv2.COLOR_BGR2RGB)\n",
    "    mask = cv2.imread(mask_filepaths[i])\n",
    "    mask = cv2.cvtColor(mask, cv2.COLOR_BGR2RGB)\n",
    "    size = (image.shape, mask.shape)\n",
    "    sizes.append(size)\n",
    "    \n",
    "set(sizes)"
   ]
  },
  {
   "attachments": {},
   "cell_type": "markdown",
   "metadata": {},
   "source": [
    "All the images have the same size."
   ]
  },
  {
   "cell_type": "code",
   "execution_count": 4,
   "metadata": {},
   "outputs": [],
   "source": [
    "category_colors = {\n",
    "    \"unlabeled\": (0, 0, 0),\n",
    "    \"paved-area\": (128, 64, 128),\n",
    "    \"dirt\": (130, 76, 0),\n",
    "    \"grass\": (0, 102, 0),\n",
    "    \"gravel\": (112, 103, 87),\n",
    "    \"water\": (28, 42, 168),\n",
    "    \"rocks\": (48, 41, 30),\n",
    "    \"pool\": (0, 50, 89),\n",
    "    \"vegetation\": (107, 142, 35),\n",
    "    \"roof\": (70, 70, 70),\n",
    "    \"wall\": (102, 102, 156),\n",
    "    \"window\": (254, 228, 12),\n",
    "    \"door\": (254, 148, 12),\n",
    "    \"fence\": (190, 153, 153),\n",
    "    \"fence-pole\": (153, 153, 153),\n",
    "    \"person\": (255, 22, 96),\n",
    "    \"dog\": (102, 51, 0),\n",
    "    \"car\": (9, 143, 150),\n",
    "    \"bicycle\": (119, 11, 32),\n",
    "    \"tree\": (51, 51, 0),\n",
    "    \"bald-tree\": (190, 250, 190),\n",
    "    \"ar-marker\": (112, 150, 146),\n",
    "    \"obstacle\": (2, 135, 115),\n",
    "    \"conflicting\": (255, 0, 0)\n",
    "}"
   ]
  },
  {
   "attachments": {},
   "cell_type": "markdown",
   "metadata": {},
   "source": [
    "For each class, look for 3 random images showing that class, turn everything to black and then plot."
   ]
  },
  {
   "cell_type": "code",
   "execution_count": null,
   "metadata": {},
   "outputs": [],
   "source": [
    "random_idxs = list(range(len(mask_filepaths)))\n",
    "\n",
    "category_examples = {}\n",
    "for category in tqdm(category_colors):\n",
    "    random.shuffle(random_idxs)\n",
    "    example_idxs = []\n",
    "    n = 0\n",
    "    for i in random_idxs:\n",
    "        n += 1\n",
    "        mask = cv2.imread(mask_filepaths[i])\n",
    "        mask = cv2.cvtColor(mask, cv2.COLOR_BGR2RGB)\n",
    "        has_color = np.any(np.all(mask == category_colors[category], axis=2)) # if mask == [128, 64, 128] across color channels\n",
    "        # If it has at least a pixel with the object class color\n",
    "        if has_color:\n",
    "            example_idxs.append(i)\n",
    "        if len(example_idxs) == 3: # examples found\n",
    "            category_examples[category] = example_idxs           \n",
    "            break\n",
    "        elif i == random_idxs[-1]: # no examples found\n",
    "            break"
   ]
  },
  {
   "cell_type": "code",
   "execution_count": 5,
   "metadata": {},
   "outputs": [],
   "source": [
    "# # Saver dict\n",
    "# with open('data/category_examples.json', 'w') as file:\n",
    "#     json.dump(category_examples, file)\n",
    "\n",
    "# Load dict\n",
    "with open('data/category_examples.json', 'r') as file:\n",
    "    category_example_idxs = json.load(file)"
   ]
  },
  {
   "cell_type": "code",
   "execution_count": 6,
   "metadata": {},
   "outputs": [
    {
     "name": "stdout",
     "output_type": "stream",
     "text": [
      "Categories absent in the images are: ['conflicting']\n"
     ]
    }
   ],
   "source": [
    "absent_categories = set(category_colors) - set(category_example_idxs)\n",
    "print(f'Categories absent in the images are: {list(absent_categories)}')"
   ]
  },
  {
   "cell_type": "code",
   "execution_count": 83,
   "metadata": {},
   "outputs": [
    {
     "name": "stderr",
     "output_type": "stream",
     "text": [
      "100%|██████████| 23/23 [00:48<00:00,  2.13s/it]\n"
     ]
    }
   ],
   "source": [
    "# For each category, find 3 images with objects of that category, turn everything to background and save plots.\n",
    "categories = sorted(list(category_example_idxs))\n",
    "\n",
    "for category in tqdm(categories):\n",
    "    fig, axs = plt.subplots(1, 3, figsize=(20, 6))\n",
    "    for i, idx in enumerate(category_example_idxs[category]):\n",
    "        # Load image\n",
    "        image = cv2.imread(image_filepaths[idx])\n",
    "        image = cv2.cvtColor(image, cv2.COLOR_BGR2RGB)\n",
    "        image = cv2.resize(image, (400, 300))\n",
    "        # Load mask\n",
    "        mask = cv2.imread(mask_filepaths[idx])\n",
    "        mask = cv2.cvtColor(mask, cv2.COLOR_BGR2RGB)\n",
    "        mask = cv2.resize(mask, (400, 300), interpolation=cv2.INTER_NEAREST)\n",
    "        # Keep only category of interest in the mask\n",
    "        filter = np.all(mask == category_colors[category], axis=2)\n",
    "        filter = np.stack([filter]*3, axis=-1)\n",
    "        # Filter image\n",
    "        image_filtered = image * filter\n",
    "        # Plot        \n",
    "        axs[i].imshow(image_filtered)\n",
    "        axs[i].axis('off')\n",
    "        axs[i].set_title(category)\n",
    "    \n",
    "    fig.tight_layout()\n",
    "    fig.savefig(f'plots/{category}.png')\n",
    "    plt.close(fig)   "
   ]
  },
  {
   "cell_type": "code",
   "execution_count": null,
   "metadata": {},
   "outputs": [
    {
     "name": "stderr",
     "output_type": "stream",
     "text": [
      "100%|██████████| 400/400 [02:44<00:00,  2.43it/s]\n"
     ]
    }
   ],
   "source": [
    "# Count total number of pixels for each category\n",
    "# (Actually it's not the total numer of pixels because the\n",
    "# images get resized and background is not counted).\n",
    "pixel_counts = {key: 0 for key in category_colors}\n",
    "\n",
    "for i in tqdm(range(len(mask_filepaths))):\n",
    "    # Load mask\n",
    "    mask = cv2.imread(mask_filepaths[i])\n",
    "    mask = cv2.cvtColor(mask, cv2.COLOR_BGR2RGB)\n",
    "    mask = cv2.resize(mask, (400, 300), interpolation=cv2.INTER_NEAREST)\n",
    "    # Init empty count dict for the mask\n",
    "    mask_pixel_counts = {key: 0 for key in category_colors}\n",
    "    # For each category count n pixels and add to mask dict\n",
    "    for category in mask_pixel_counts:\n",
    "        count = np.sum(np.all(mask == category_colors[category], axis=2))\n",
    "        mask_pixel_counts[category] = count.item() # as int, not np.array\n",
    "    # Add mask dict values to main dict\n",
    "    for key in mask_pixel_counts:\n",
    "        pixel_counts[key] += mask_pixel_counts[key]"
   ]
  },
  {
   "cell_type": "code",
   "execution_count": 7,
   "metadata": {},
   "outputs": [],
   "source": [
    "# Save\n",
    "# with open('data/category_pixel_counts.json', 'w') as file:\n",
    "#     json.dump(pixel_counts, file)\n",
    "\n",
    "# Load\n",
    "with open('data/category_pixel_counts.json', 'r') as file:\n",
    "    pixel_counts = json.load(file)"
   ]
  },
  {
   "cell_type": "code",
   "execution_count": 8,
   "metadata": {},
   "outputs": [
    {
     "data": {
      "text/plain": [
       "[('paved-area', 0.3766),\n",
       " ('grass', 0.1994),\n",
       " ('roof', 0.0735),\n",
       " ('gravel', 0.0729),\n",
       " ('vegetation', 0.0709),\n",
       " ('obstacle', 0.0354),\n",
       " ('dirt', 0.0319),\n",
       " ('wall', 0.0268),\n",
       " ('water', 0.0221),\n",
       " ('tree', 0.0205),\n",
       " ('bald-tree', 0.0133),\n",
       " ('person', 0.0105),\n",
       " ('fence', 0.0096),\n",
       " ('car', 0.0078),\n",
       " ('rocks', 0.0072),\n",
       " ('pool', 0.0064),\n",
       " ('window', 0.0056),\n",
       " ('unlabeled', 0.0043),\n",
       " ('ar-marker', 0.0023),\n",
       " ('bicycle', 0.0022),\n",
       " ('fence-pole', 0.0005),\n",
       " ('door', 0.0003),\n",
       " ('dog', 0.0001),\n",
       " ('conflicting', 0.0)]"
      ]
     },
     "execution_count": 8,
     "metadata": {},
     "output_type": "execute_result"
    }
   ],
   "source": [
    "# Get percentage of pixels for each category on the total number of pixels\n",
    "# belonging to some category.\n",
    "n_tot_pixels = np.sum([pixel_counts[category] for category in pixel_counts])\n",
    "pixel_percs = {category: np.round(pixel_counts[category]/n_tot_pixels, 4) for category in pixel_counts}\n",
    "\n",
    "sorted(list(pixel_percs.items()), key=lambda x: -x[1])"
   ]
  },
  {
   "cell_type": "code",
   "execution_count": 14,
   "metadata": {},
   "outputs": [],
   "source": [
    "# Relabeling\n",
    "regrouping = {\n",
    "    'background': ['ar-marker', 'obstacle', 'car', 'unlabeled', 'bicycle', 'dog', 'conflicting', 'fence', 'pool', 'fence-pole'],\n",
    "    'ground': ['paved-area', 'gravel', 'dirt', 'rocks'],\n",
    "    'vegetation': ['grass', 'vegetation', 'tree', 'bald-tree'],\n",
    "    'buildings': ['roof', 'wall', 'window', 'door'],\n",
    "    'water': ['water'],\n",
    "    'person' : ['person']\n",
    "}"
   ]
  },
  {
   "cell_type": "code",
   "execution_count": 15,
   "metadata": {},
   "outputs": [
    {
     "data": {
      "text/plain": [
       "[('ground', 0.4886),\n",
       " ('vegetation', 0.3041),\n",
       " ('buildings', 0.1062),\n",
       " ('background', 0.0686),\n",
       " ('water', 0.0221),\n",
       " ('person', 0.0105)]"
      ]
     },
     "execution_count": 15,
     "metadata": {},
     "output_type": "execute_result"
    }
   ],
   "source": [
    "# New category percentages\n",
    "new_pixel_percs = {}\n",
    "for new_category in regrouping:\n",
    "    new_category_pixel_count = []\n",
    "    for category in regrouping[new_category]:\n",
    "        new_category_pixel_count.append(pixel_counts[category])\n",
    "    new_pixel_percs[new_category] = np.round(np.sum(new_category_pixel_count) / n_tot_pixels, 4)\n",
    "    \n",
    "sorted(list(new_pixel_percs.items()), key=lambda x:-x[1])       "
   ]
  },
  {
   "cell_type": "code",
   "execution_count": 16,
   "metadata": {},
   "outputs": [
    {
     "name": "stdout",
     "output_type": "stream",
     "text": [
      "('background', [(112, 150, 146), (2, 135, 115), (9, 143, 150), (0, 0, 0), (119, 11, 32), (102, 51, 0), (255, 0, 0), (190, 153, 153), (0, 50, 89), (153, 153, 153)])\n",
      "('ground', [(128, 64, 128), (112, 103, 87), (130, 76, 0), (48, 41, 30)])\n",
      "('vegetation', [(0, 102, 0), (107, 142, 35), (51, 51, 0), (190, 250, 190)])\n",
      "('buildings', [(70, 70, 70), (102, 102, 156), (254, 228, 12), (254, 148, 12)])\n",
      "('water', [(28, 42, 168)])\n",
      "('person', [(255, 22, 96)])\n"
     ]
    }
   ],
   "source": [
    "# Original colors to map to the new categories\n",
    "new_category_colors = {}\n",
    "\n",
    "for new_category in regrouping:\n",
    "    new_category_color_ls = []\n",
    "    for category in regrouping[new_category]:\n",
    "        new_category_color_ls.append(category_colors[category])\n",
    "    new_category_colors[new_category] = new_category_color_ls\n",
    "    \n",
    "for item in new_category_colors.items():\n",
    "    print(item)"
   ]
  },
  {
   "attachments": {},
   "cell_type": "markdown",
   "metadata": {},
   "source": [
    "The \"background\" class should be set to 0, to really become the background."
   ]
  }
 ],
 "metadata": {
  "kernelspec": {
   "display_name": "gym",
   "language": "python",
   "name": "python3"
  },
  "language_info": {
   "codemirror_mode": {
    "name": "ipython",
    "version": 3
   },
   "file_extension": ".py",
   "mimetype": "text/x-python",
   "name": "python",
   "nbconvert_exporter": "python",
   "pygments_lexer": "ipython3",
   "version": "3.9.16"
  },
  "orig_nbformat": 4
 },
 "nbformat": 4,
 "nbformat_minor": 2
}
